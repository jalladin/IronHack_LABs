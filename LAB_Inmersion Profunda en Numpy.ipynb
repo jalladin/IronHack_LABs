{
 "cells": [
  {
   "cell_type": "code",
   "execution_count": 1,
   "id": "0b563560-069c-428d-90fe-b8f4877f8e5b",
   "metadata": {},
   "outputs": [],
   "source": [
    "#1. Importa el paquete NUMPY bajo el nombre np.\n",
    "import numpy as np"
   ]
  },
  {
   "cell_type": "code",
   "execution_count": 5,
   "id": "9551ffcf-fe9e-401f-b69b-6dfd657ef1b4",
   "metadata": {},
   "outputs": [
    {
     "name": "stdout",
     "output_type": "stream",
     "text": [
      "1.26.4\n"
     ]
    }
   ],
   "source": [
    "#2. Imprime la versión de NUMPY y la configuración.\n",
    "print(np.__version__)"
   ]
  },
  {
   "cell_type": "code",
   "execution_count": 19,
   "id": "2865cf8b-737d-4641-bdec-db2ee3c92e18",
   "metadata": {},
   "outputs": [],
   "source": [
    "#3. Genera un array tridimensional de 2x3x5 con valores aleatorios. Asigna el array a la variable \"a\"\n",
    "# Desafío: hay al menos tres maneras fáciles que usan numpy para generar arrays aleatorios. ¿Cuántas formas puedes encontrar?\n",
    "\n",
    "import random\n",
    "\n",
    "a = np.random.randint(3, size=(2, 3, 5))\n"
   ]
  },
  {
   "cell_type": "code",
   "execution_count": 21,
   "id": "bba005a4-789e-4607-be3f-7a285ba71a55",
   "metadata": {},
   "outputs": [
    {
     "name": "stdout",
     "output_type": "stream",
     "text": [
      "[[[0 1 2 2 1]\n",
      "  [2 1 2 2 2]\n",
      "  [0 1 0 0 0]]\n",
      "\n",
      " [[2 1 0 0 1]\n",
      "  [1 1 0 0 2]\n",
      "  [1 1 2 0 2]]]\n"
     ]
    }
   ],
   "source": [
    "#4. Imprime a.\n",
    "print(a)"
   ]
  },
  {
   "cell_type": "code",
   "execution_count": 29,
   "id": "4be8723d-80b7-426e-abc3-cdf5670b0205",
   "metadata": {},
   "outputs": [],
   "source": [
    "#5. Crea un array tridimensional de 5x2x3 con todos los valores igual a 1.\n",
    "#Asigna el array a la variable \"b\"\n",
    "\n",
    "b = np.ones((5,2,3))"
   ]
  },
  {
   "cell_type": "code",
   "execution_count": 31,
   "id": "9328a0bd-074a-4f14-a905-6e96f32d17e0",
   "metadata": {},
   "outputs": [
    {
     "name": "stdout",
     "output_type": "stream",
     "text": [
      "[[[1. 1. 1.]\n",
      "  [1. 1. 1.]]\n",
      "\n",
      " [[1. 1. 1.]\n",
      "  [1. 1. 1.]]\n",
      "\n",
      " [[1. 1. 1.]\n",
      "  [1. 1. 1.]]\n",
      "\n",
      " [[1. 1. 1.]\n",
      "  [1. 1. 1.]]\n",
      "\n",
      " [[1. 1. 1.]\n",
      "  [1. 1. 1.]]]\n"
     ]
    }
   ],
   "source": [
    "#6. Imprime b\n",
    "print(b)"
   ]
  },
  {
   "cell_type": "code",
   "execution_count": 35,
   "id": "76e636f0-7e87-407a-8294-c87225c2cd96",
   "metadata": {},
   "outputs": [
    {
     "ename": "SyntaxError",
     "evalue": "invalid syntax (3817924507.py, line 2)",
     "output_type": "error",
     "traceback": [
      "\u001b[1;36m  Cell \u001b[1;32mIn[35], line 2\u001b[1;36m\u001b[0m\n\u001b[1;33m    No, La suma de matrices en numpy requiere que las matrices tengan las mismas dimensiones en cada eje.\u001b[0m\n\u001b[1;37m           ^\u001b[0m\n\u001b[1;31mSyntaxError\u001b[0m\u001b[1;31m:\u001b[0m invalid syntax\n"
     ]
    }
   ],
   "source": [
    "#7. ¿Tienen a y b el mismo tamaño? ¿Cómo lo demuestras en código Python?\n",
    "\n",
    "\n"
   ]
  },
  {
   "cell_type": "code",
   "execution_count": null,
   "id": "40b64317-9bd2-40aa-a7b6-1ceeaff11d65",
   "metadata": {},
   "outputs": [],
   "source": [
    "#8. ¿Es posible sumar a y b? ¿Por qué sí o por qué no?\n",
    "No, La suma de matrices en numpy requiere que las matrices tengan las mismas dimensiones en cada eje."
   ]
  },
  {
   "cell_type": "code",
   "execution_count": 41,
   "id": "a3c05249-1f86-43bd-954d-94dfae9099ce",
   "metadata": {},
   "outputs": [
    {
     "name": "stdout",
     "output_type": "stream",
     "text": [
      "[[[1. 1. 1. 1. 1.]\n",
      "  [1. 1. 1. 1. 1.]\n",
      "  [1. 1. 1. 1. 1.]]\n",
      "\n",
      " [[1. 1. 1. 1. 1.]\n",
      "  [1. 1. 1. 1. 1.]\n",
      "  [1. 1. 1. 1. 1.]]]\n"
     ]
    }
   ],
   "source": [
    "#9. Transpone b para que tenga la misma estructura que a (es decir, se convierta en un array de 2x3x5). Asigna el array transpuesto a la variable \"c\".\n",
    "c = np.transpose(b, axes=(1, 2, 0))\n",
    "print(c)"
   ]
  },
  {
   "cell_type": "code",
   "execution_count": 47,
   "id": "72b9faac-0b5d-4baa-92e8-9d60934ebb2a",
   "metadata": {},
   "outputs": [
    {
     "name": "stdout",
     "output_type": "stream",
     "text": [
      "[[[1. 2. 3. 3. 2.]\n",
      "  [3. 2. 3. 3. 3.]\n",
      "  [1. 2. 1. 1. 1.]]\n",
      "\n",
      " [[3. 2. 1. 1. 2.]\n",
      "  [2. 2. 1. 1. 3.]\n",
      "  [2. 2. 3. 1. 3.]]]\n"
     ]
    }
   ],
   "source": [
    "#10. Intenta sumar a y c. Ahora debería funcionar. Asigna la suma a la variable \"d\". Pero, ¿por qué funciona ahora?\n",
    "\n",
    "d = a + c #Funciona porque ambas matrices tienen las mismas dimensiones (2,3,5)\n",
    "print(d)"
   ]
  },
  {
   "cell_type": "code",
   "execution_count": 51,
   "id": "9d598472-fa7d-4f49-ae2a-42a72cfe1b0c",
   "metadata": {},
   "outputs": [
    {
     "name": "stdout",
     "output_type": "stream",
     "text": [
      "[[[0 1 2 2 1]\n",
      "  [2 1 2 2 2]\n",
      "  [0 1 0 0 0]]\n",
      "\n",
      " [[2 1 0 0 1]\n",
      "  [1 1 0 0 2]\n",
      "  [1 1 2 0 2]]]\n",
      "[[[1. 2. 3. 3. 2.]\n",
      "  [3. 2. 3. 3. 3.]\n",
      "  [1. 2. 1. 1. 1.]]\n",
      "\n",
      " [[3. 2. 1. 1. 2.]\n",
      "  [2. 2. 1. 1. 3.]\n",
      "  [2. 2. 3. 1. 3.]]]\n"
     ]
    }
   ],
   "source": [
    "#11. Imprime a y d. ¿Notas la diferencia y la relación entre los dos arrays en términos de los valores? Explica.\n",
    "\n",
    "print(a)\n",
    "print(d)\n",
    "\"\"\"Como d es la suma entre a y c y c era compuesta de numeros 1, la d tiene 1 incrementado en los valores. \n",
    "Ademas ahora los valores aparecen con un punto.\"\"\""
   ]
  },
  {
   "cell_type": "code",
   "execution_count": 55,
   "id": "61358909-992c-45ce-9e68-dd68a5576c42",
   "metadata": {},
   "outputs": [
    {
     "name": "stdout",
     "output_type": "stream",
     "text": [
      "[[[0. 1. 2. 2. 1.]\n",
      "  [2. 1. 2. 2. 2.]\n",
      "  [0. 1. 0. 0. 0.]]\n",
      "\n",
      " [[2. 1. 0. 0. 1.]\n",
      "  [1. 1. 0. 0. 2.]\n",
      "  [1. 1. 2. 0. 2.]]]\n"
     ]
    }
   ],
   "source": [
    "#12. Multiplica a y c. Asigna el resultado a e.\n",
    "e = a * c\n",
    "print(e)"
   ]
  },
  {
   "cell_type": "code",
   "execution_count": 57,
   "id": "27df5b79-5e76-465c-93b4-8fb32c2c8bd5",
   "metadata": {},
   "outputs": [
    {
     "name": "stdout",
     "output_type": "stream",
     "text": [
      "[[[0 1 2 2 1]\n",
      "  [2 1 2 2 2]\n",
      "  [0 1 0 0 0]]\n",
      "\n",
      " [[2 1 0 0 1]\n",
      "  [1 1 0 0 2]\n",
      "  [1 1 2 0 2]]]\n"
     ]
    }
   ],
   "source": [
    "#13. ¿Es e igual a a? ¿Por qué sí o por qué no?\n",
    "print(a)\n",
    "\"\"\"Si, son iguales. Esto pasa porque los valores de c son 1 y cualquier numero de la a multiplcado por 1 va volver ele mismo. \n",
    "La unica diferencia es que ahora hay un '.' \"\"\"\n"
   ]
  },
  {
   "cell_type": "code",
   "execution_count": 63,
   "id": "c35b6c7b-fcdd-4f6a-849b-363e82e968dc",
   "metadata": {},
   "outputs": [
    {
     "name": "stdout",
     "output_type": "stream",
     "text": [
      "El valor máximo de 'd' es 3.0\n",
      "El valor minimo de 'd' es 1.0\n",
      "El valor medio de 'd' es 2.0\n"
     ]
    }
   ],
   "source": [
    "#14. Identifica los valores máximos, mínimos y medios en d. Asigna esos valores a las variables \"d_max\", \"d_min\" y \"d_mean\"\n",
    "\n",
    "d_max = np.max(d)\n",
    "\n",
    "d_min = np.min(d)\n",
    "\n",
    "d_mean = np.mean(d)\n",
    "print(f\"El valor máximo de 'd' es {d_max}\")\n",
    "print(f\"El valor minimo de 'd' es {d_min}\")\n",
    "print(f\"El valor medio de 'd' es {d_mean}\")"
   ]
  },
  {
   "cell_type": "code",
   "execution_count": null,
   "id": "6f776dce-040b-4504-b92b-ad61e6172838",
   "metadata": {},
   "outputs": [],
   "source": [
    "#15. Ahora queremos etiquetar los valores en d. Primero crea un array vacío \"f\" con la misma forma (es decir, 2x3x5) que d usando `np.empty`.\n",
    "\n",
    "f = np.empty((2,3,5))"
   ]
  },
  {
   "cell_type": "code",
   "execution_count": null,
   "id": "16302795-e487-49b1-a0bf-1156bb020ae4",
   "metadata": {},
   "outputs": [],
   "source": [
    "\"\"\"\n",
    "#16. Rellena los valores en f. Para cada valor en d, si es mayor que d_min pero menor que d_mean, asigna 25 al valor correspondiente en f.\n",
    "Si un valor en d es mayor que d_mean pero menor que d_max, asigna 75 al valor correspondiente en f.\n",
    "Si un valor es igual a d_mean, asigna 50 al valor correspondiente en f.\n",
    "Asigna 0 al valor correspondiente(s) en f para d_min en d.\n",
    "Asigna 100 al valor correspondiente(s) en f para d_max en d.\n",
    "Al final, f debería tener solo los siguientes valores: 0, 25, 50, 75 y 100.\n",
    "Nota: no necesitas usar Numpy en esta pregunta.\n",
    "\"\"\""
   ]
  },
  {
   "cell_type": "code",
   "execution_count": null,
   "id": "70aaa7cf-39f0-40a6-86b4-d870a537cf62",
   "metadata": {},
   "outputs": [],
   "source": [
    "f[(d > d_min) & (d < d_mean)] = 25\n",
    "print(f)"
   ]
  },
  {
   "cell_type": "code",
   "execution_count": null,
   "id": "3ea2252c-f915-45e2-a20e-dfbd32aeb320",
   "metadata": {},
   "outputs": [],
   "source": [
    "f[(d > d_mean) & (d < d_max)] = 75\n",
    "print(f)"
   ]
  },
  {
   "cell_type": "code",
   "execution_count": null,
   "id": "5fef822b-14c5-4711-9b9c-965e5fc8ac46",
   "metadata": {},
   "outputs": [],
   "source": [
    "f[(d == d_mean)] = 50\n",
    "print(f)"
   ]
  },
  {
   "cell_type": "code",
   "execution_count": null,
   "id": "c5bfcb2d-842e-495e-96cf-deb15567eb84",
   "metadata": {},
   "outputs": [],
   "source": [
    "f[(d == d_min)] = 0\n",
    "print(f)"
   ]
  },
  {
   "cell_type": "code",
   "execution_count": null,
   "id": "59ba0827-165c-4805-a33b-1528f16ee375",
   "metadata": {},
   "outputs": [],
   "source": [
    "f[(d == d_max)] = 100\n",
    "print(f)"
   ]
  },
  {
   "cell_type": "code",
   "execution_count": null,
   "id": "1c66f715-f329-424b-85d6-ee5b8cadb374",
   "metadata": {},
   "outputs": [],
   "source": [
    "#17. Imprime d y f. ¿Tienes el f esperado?\n",
    "print(d)\n",
    "print(f) Si, el f esta con los valores actualizados de 0 a 100."
   ]
  },
  {
   "cell_type": "code",
   "execution_count": null,
   "id": "92474260-dbe8-4a7c-bd7e-7f09571df883",
   "metadata": {},
   "outputs": [],
   "source": [
    "\"\"\"#17. Imprime d y f. ¿Tienes el f esperado?\n",
    "Por ejemplo, si tu d es:\n",
    "array([[[1.85836099, 1.67064465, 1.62576044, 1.40243961, 1.88454931],\n",
    "        [1.75354326, 1.69403643, 1.36729252, 1.61415071, 1.12104981],\n",
    "        [1.72201435, 1.1862918 , 1.87078449, 1.7726778 , 1.88180042]],\n",
    "\n",
    "       [[1.44747908, 1.31673383, 1.02000951, 1.52218947, 1.97066381],\n",
    "        [1.79129243, 1.74983003, 1.96028037, 1.85166831, 1.65450881],\n",
    "        [1.18068344, 1.9587381 , 1.00656599, 1.93402165, 1.73514584]]])\"\"\""
   ]
  },
  {
   "cell_type": "code",
   "execution_count": null,
   "id": "4680d2f9-feee-4298-984e-f98f273b4e95",
   "metadata": {},
   "outputs": [],
   "source": [
    "f[d == d_min] = 'A'\n",
    "f[(d > d_min) & (d < d_mean)] = 'B'\n",
    "f[d == d_mean] = 'C'\n",
    "f[(d > d_mean) & (d < d_max)] = 'D'\n",
    "f[d == d_max] = 'E'"
   ]
  },
  {
   "cell_type": "code",
   "execution_count": null,
   "id": "b2155ca8-85cf-4be2-8750-ed19e39fe1b6",
   "metadata": {},
   "outputs": [],
   "source": []
  }
 ],
 "metadata": {
  "kernelspec": {
   "display_name": "Python 3 (ipykernel)",
   "language": "python",
   "name": "python3"
  },
  "language_info": {
   "codemirror_mode": {
    "name": "ipython",
    "version": 3
   },
   "file_extension": ".py",
   "mimetype": "text/x-python",
   "name": "python",
   "nbconvert_exporter": "python",
   "pygments_lexer": "ipython3",
   "version": "3.11.7"
  }
 },
 "nbformat": 4,
 "nbformat_minor": 5
}
