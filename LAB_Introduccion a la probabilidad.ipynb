{
 "cells": [
  {
   "cell_type": "markdown",
   "metadata": {},
   "source": [
    "# Probability"
   ]
  },
  {
   "cell_type": "markdown",
   "metadata": {},
   "source": [
    "## Reto 1\n",
    "Hay una caja con 10 bolas blancas, 12 bolas rojas y 8 bolas negras. Calcula la probabilidad de:\n",
    "* Sacar una bola blanca.\n",
    "* Sacar una bola blanca en la primera extracción y una bola negra en la segunda extracción sin reemplazar la primera.\n",
    "* Sacar una bola blanca en la primera extracción y una bola negra en la segunda extracción reemplazando la primera.\n",
    "* Sacar 3 bolas y que sean todas de diferentes colores."
   ]
  },
  {
   "cell_type": "code",
   "execution_count": 1,
   "metadata": {},
   "outputs": [
    {
     "name": "stdout",
     "output_type": "stream",
     "text": [
      "30\n"
     ]
    }
   ],
   "source": [
    "b_blancas , b_rojas , b_negras = 10 , 12 , 8\n",
    "N = b_blancas + b_rojas + b_negras #es el tamaño del espacio muestral \n",
    "print(N)\n",
    "#Sacar una bola blanca.\n",
    "p_blanca = b_blancas/N\n",
    "#Sacar una bola negra.\n",
    "p_negra = b_negras/N\n",
    "#Sacar una bola roja.\n",
    "p_roja = b_rojas/N\n",
    "#ya conocemos la p_blanca, por lo que procededmos a calcular la probabilidad que sea negra sin reemplazo\n",
    "p_negra_blanca = b_negras/(N-1)\n",
    "#luego la probabilidad conjunta de estos sucesos es:\n",
    "p_blanca_negra =p_blanca * p_negra_blanca   \n",
    "#Sacar una bola blanca en la primera extracción y una bola negra en la segunda extracción reemplazando la primera.\n",
    "p_blanca_n_negra = p_blanca * p_negra\n",
    "#Sacar 3 bolas y que sean todas de diferentes colores.\n",
    "\n",
    "#podemos resumirlo en combinacion de sucesos\n",
    "#ya conocemos los sucesos que sea blanca , luego la condicionales de blanca y despues negra con reemplazo y sin reemplazo\n",
    "# ahora los falta conocer la probabilidad que sea roja despues de las anteriores fueron blanca y negra\n",
    "#p(AnBnC)= P(A)* P(BnA) * P(C| AnB)\n",
    "p_roja_n_p_blanca_n_negra = 12 / (N-2) # serian dos bolas menos\n",
    "# luego la probabilidad conjunta de todos los eventos sin reemplazo \n",
    "p_blanca_roja_negra = p_blanca * p_blanca_n_negra*p_roja_n_p_blanca_n_negra * 6\n"
   ]
  },
  {
   "cell_type": "markdown",
   "metadata": {},
   "source": [
    "## Reto 2\n",
    "\n",
    "Quieres ir de picnic el sábado. Odias la lluvia y quieres planificar tu fin de semana. Para ayudarte a tomar una decisión, recopilas los siguientes datos sobre los días lluviosos:\n",
    "\n",
    "* El 40% de todos los días están nublados.\n",
    "* Aproximadamente el 50% de los días nublados son lluviosos.\n",
    "* Aproximadamente el 20% de los días no nublados son lluviosos.\n",
    "\n",
    "¿Cuál es la probabilidad de que llueva el próximo sábado?"
   ]
  },
  {
   "cell_type": "code",
   "execution_count": 3,
   "metadata": {},
   "outputs": [
    {
     "data": {
      "text/plain": [
       "0.32"
      ]
     },
     "execution_count": 3,
     "metadata": {},
     "output_type": "execute_result"
    }
   ],
   "source": [
    "# YOUR CODE HERE\n",
    "# suceso A = {dia nublado} = 0.4\n",
    "# suceso B = {lluvia}\n",
    "# suceso C nublado y llueve = {AnB}= 0.5\n",
    "#suceso A' n B = 0.2\n",
    "\n",
    "#p lluvia sabado = P(A)*P(AnB) + P(A')*P(A'nB)\n",
    "p_lluvia= (0.4*0.5)+((1-0.4)* 0.2)\n",
    "p_lluvia\n"
   ]
  },
  {
   "cell_type": "markdown",
   "metadata": {},
   "source": [
    "## Reto 3\n",
    "\n",
    "A y B son eventos de una probabilidad tal que \\(P(A) = 0.3\\), \\(P(B) = 0.6\\) y \\(P(A \\cap B) = 0.1\\)\n",
    "\n",
    "¿Cuáles de las siguientes afirmaciones son verdaderas?\n",
    "**SUGERENCIA: dibuja un gran diagrama de Venn a tu lado**\n",
    "* \\(P(\\overline{A}) = 0.7\\)\n",
    "* \\(P(A \\cup B) = 0.6\\)\n",
    "* \\(P(A \\cap \\overline{B}) = 0.2\\)\n",
    "* \\(P(A \\cup \\overline{A}) = 1\\)  \n",
    "* \\(P(A \\cap (B \\cup \\overline{B})) = 0.4\\)\n",
    "* \\(P(\\overline{A} \\cap \\overline{B}) = 0.3\\)\n",
    "* \\(P(\\overline{A \\cap B}) = 0.9\\)"
   ]
  },
  {
   "cell_type": "markdown",
   "metadata": {},
   "source": [
    "P(A)= 0.3\n",
    "P(B)= 0.6\n",
    "P(AnB)=0.1\n",
    "\n",
    "1. P(A')=0.7?\n",
    "    P(A')=1-P(A)= 1-03 = 0.7 verdadero\n",
    "2. P(AuB)= 0.6 ?\n",
    "    P(AuB)= P(A)+P(B)-P(AnB) = 0.3+0.6-0.1 =0.8 Falso\n",
    "3. P(AnB')= 0.2?\n",
    "    P(A)-P(AnB)= 0.3-0.1= 0.2 Verdadero\n",
    "4. P(AuA')=1\n",
    "    P(A)+P(A')= 0.3 + 0.7 = 1 Verdadero\n",
    "\n",
    "5. P(A n (BuB'))= 0.4\n",
    "    p(An1)= 0.3 Falso\n",
    "6. P(A'nB')=0.3\n",
    "    = 1-P(AuB)=1-0.8 = 0.2 Falso\n",
    "7. P((AnB)')=0.9\n",
    "    = 1- P(AnB)= 1-0.1 = 0.9 verdadero\n"
   ]
  },
  {
   "cell_type": "markdown",
   "metadata": {},
   "source": [
    "## Reto 4\n",
    "\n",
    "* Si alguien viaja a China, la probabilidad de contraer Covid es del 1%\n",
    "* Si alguien viaja a Italia, la probabilidad de contraer Covid es del 20%\n",
    "\n",
    "Lanzo un dado con números 1, 2, 3, 4, 5, 6:\n",
    "* Si sale 1: Vuelo a Italia\n",
    "* Si no sale 1: Vuelo a China\n",
    "\n",
    "Durante mi viaje, contraje Covid. ¿Cuál es la probabilidad de que haya volado a China?"
   ]
  },
  {
   "cell_type": "markdown",
   "metadata": {},
   "source": [
    "P(I)= 1/6\n",
    "P(C)= 5/6\n",
    "\n",
    "P(c|C)= 0.01\n",
    "P(c|I)= 0.2\n",
    "\n",
    "P(c)= P(c|C)*P(C)+P(c|I)*P(I)= (5/6)*0.01 +  0.2(1/6)=1/24\n",
    "\n",
    "usando teorema de bayes: P(C|c)= (P(c|C) * P(C))/P(c)=(0.01 *(5/6))/(1/24)=0.2"
   ]
  },
  {
   "cell_type": "markdown",
   "metadata": {},
   "source": [
    "## BONUS\n",
    "\n",
    "Lanzas 2 dados. ¿Cuál es la probabilidad de que la suma de los números sea 7? ¿Y 8? ¿Y 9? Luego simula 10000 veces y dibuja un gráfico de conteo.\n",
    "\n",
    "tu explicación aquí"
   ]
  },
  {
   "cell_type": "code",
   "execution_count": null,
   "metadata": {},
   "outputs": [],
   "source": [
    "# YOUR CODE HERE"
   ]
  }
 ],
 "metadata": {
  "kernelspec": {
   "display_name": "Python 3 (ipykernel)",
   "language": "python",
   "name": "python3"
  },
  "language_info": {
   "codemirror_mode": {
    "name": "ipython",
    "version": 3
   },
   "file_extension": ".py",
   "mimetype": "text/x-python",
   "name": "python",
   "nbconvert_exporter": "python",
   "pygments_lexer": "ipython3",
   "version": "3.11.7"
  },
  "toc": {
   "base_numbering": 1,
   "nav_menu": {},
   "number_sections": false,
   "sideBar": true,
   "skip_h1_title": false,
   "title_cell": "Table of Contents",
   "title_sidebar": "Contents",
   "toc_cell": false,
   "toc_position": {
    "height": "calc(100% - 180px)",
    "left": "10px",
    "top": "150px",
    "width": "296.475px"
   },
   "toc_section_display": true,
   "toc_window_display": false
  },
  "varInspector": {
   "cols": {
    "lenName": 16,
    "lenType": 16,
    "lenVar": 40
   },
   "kernels_config": {
    "python": {
     "delete_cmd_postfix": "",
     "delete_cmd_prefix": "del ",
     "library": "var_list.py",
     "varRefreshCmd": "print(var_dic_list())"
    },
    "r": {
     "delete_cmd_postfix": ") ",
     "delete_cmd_prefix": "rm(",
     "library": "var_list.r",
     "varRefreshCmd": "cat(var_dic_list()) "
    }
   },
   "types_to_exclude": [
    "module",
    "function",
    "builtin_function_or_method",
    "instance",
    "_Feature"
   ],
   "window_display": false
  }
 },
 "nbformat": 4,
 "nbformat_minor": 2
}
