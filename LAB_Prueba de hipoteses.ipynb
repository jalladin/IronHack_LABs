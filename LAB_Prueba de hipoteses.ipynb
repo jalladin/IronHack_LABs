{
 "cells": [
  {
   "cell_type": "markdown",
   "metadata": {},
   "source": [
    "# Antes de empezar:\n",
    "- Lee el archivo README.md\n",
    "- Comenta tanto como puedas y utiliza los recursos (archivo README.md)\n",
    "- ¡Feliz aprendizaje!"
   ]
  },
  {
   "cell_type": "code",
   "execution_count": 39,
   "metadata": {},
   "outputs": [],
   "source": [
    "# import numpy and pandas\n",
    "import pandas as pd\n",
    "import numpy as np\n",
    "from scipy.stats import trim_mean, mode, skew, gaussian_kde, pearsonr, spearmanr, beta\n",
    "from statsmodels.stats.weightstats import ztest as ztest\n",
    "\n",
    "from scipy.stats import ttest_ind, norm, t\n",
    "from scipy.stats import f_oneway\n",
    "from scipy.stats import sem\n",
    "from scipy import stats\n",
    "\n",
    "from sklearn.model_selection import train_test_split\n",
    "import matplotlib.pyplot as plt\n",
    "from scipy.stats import ttest_ind, norm, ks_2samp\n",
    "import statsmodels.api as sm"
   ]
  },
  {
   "cell_type": "markdown",
   "metadata": {},
   "source": [
    "# Reto 1 - Explorando los Datos\n",
    "\n",
    "En este reto, examinaremos todos los salarios de los empleados de la Ciudad de Chicago. Comenzaremos cargando el conjunto de datos y examinando su contenido."
   ]
  },
  {
   "cell_type": "code",
   "execution_count": 40,
   "metadata": {},
   "outputs": [],
   "source": [
    "# Run this code:\n",
    "salaries = pd.read_csv('./Current_Employee_Names__Salaries__and_Position_Titles.csv')"
   ]
  },
  {
   "cell_type": "markdown",
   "metadata": {},
   "source": [
    "Examina el conjunto de datos `salaries` utilizando la función `head` que se muestra a continuación."
   ]
  },
  {
   "cell_type": "code",
   "execution_count": 41,
   "metadata": {},
   "outputs": [
    {
     "data": {
      "text/html": [
       "<div>\n",
       "<style scoped>\n",
       "    .dataframe tbody tr th:only-of-type {\n",
       "        vertical-align: middle;\n",
       "    }\n",
       "\n",
       "    .dataframe tbody tr th {\n",
       "        vertical-align: top;\n",
       "    }\n",
       "\n",
       "    .dataframe thead th {\n",
       "        text-align: right;\n",
       "    }\n",
       "</style>\n",
       "<table border=\"1\" class=\"dataframe\">\n",
       "  <thead>\n",
       "    <tr style=\"text-align: right;\">\n",
       "      <th></th>\n",
       "      <th>Name</th>\n",
       "      <th>Job Titles</th>\n",
       "      <th>Department</th>\n",
       "      <th>Full or Part-Time</th>\n",
       "      <th>Salary or Hourly</th>\n",
       "      <th>Typical Hours</th>\n",
       "      <th>Annual Salary</th>\n",
       "      <th>Hourly Rate</th>\n",
       "    </tr>\n",
       "  </thead>\n",
       "  <tbody>\n",
       "    <tr>\n",
       "      <th>0</th>\n",
       "      <td>AARON,  JEFFERY M</td>\n",
       "      <td>SERGEANT</td>\n",
       "      <td>POLICE</td>\n",
       "      <td>F</td>\n",
       "      <td>Salary</td>\n",
       "      <td>NaN</td>\n",
       "      <td>101442.0</td>\n",
       "      <td>NaN</td>\n",
       "    </tr>\n",
       "    <tr>\n",
       "      <th>1</th>\n",
       "      <td>AARON,  KARINA</td>\n",
       "      <td>POLICE OFFICER (ASSIGNED AS DETECTIVE)</td>\n",
       "      <td>POLICE</td>\n",
       "      <td>F</td>\n",
       "      <td>Salary</td>\n",
       "      <td>NaN</td>\n",
       "      <td>94122.0</td>\n",
       "      <td>NaN</td>\n",
       "    </tr>\n",
       "    <tr>\n",
       "      <th>2</th>\n",
       "      <td>AARON,  KIMBERLEI R</td>\n",
       "      <td>CHIEF CONTRACT EXPEDITER</td>\n",
       "      <td>GENERAL SERVICES</td>\n",
       "      <td>F</td>\n",
       "      <td>Salary</td>\n",
       "      <td>NaN</td>\n",
       "      <td>101592.0</td>\n",
       "      <td>NaN</td>\n",
       "    </tr>\n",
       "    <tr>\n",
       "      <th>3</th>\n",
       "      <td>ABAD JR,  VICENTE M</td>\n",
       "      <td>CIVIL ENGINEER IV</td>\n",
       "      <td>WATER MGMNT</td>\n",
       "      <td>F</td>\n",
       "      <td>Salary</td>\n",
       "      <td>NaN</td>\n",
       "      <td>110064.0</td>\n",
       "      <td>NaN</td>\n",
       "    </tr>\n",
       "    <tr>\n",
       "      <th>4</th>\n",
       "      <td>ABASCAL,  REECE E</td>\n",
       "      <td>TRAFFIC CONTROL AIDE-HOURLY</td>\n",
       "      <td>OEMC</td>\n",
       "      <td>P</td>\n",
       "      <td>Hourly</td>\n",
       "      <td>20.0</td>\n",
       "      <td>NaN</td>\n",
       "      <td>19.86</td>\n",
       "    </tr>\n",
       "  </tbody>\n",
       "</table>\n",
       "</div>"
      ],
      "text/plain": [
       "                  Name                              Job Titles  \\\n",
       "0    AARON,  JEFFERY M                                SERGEANT   \n",
       "1      AARON,  KARINA   POLICE OFFICER (ASSIGNED AS DETECTIVE)   \n",
       "2  AARON,  KIMBERLEI R                CHIEF CONTRACT EXPEDITER   \n",
       "3  ABAD JR,  VICENTE M                       CIVIL ENGINEER IV   \n",
       "4    ABASCAL,  REECE E             TRAFFIC CONTROL AIDE-HOURLY   \n",
       "\n",
       "         Department Full or Part-Time Salary or Hourly  Typical Hours  \\\n",
       "0            POLICE                 F           Salary            NaN   \n",
       "1            POLICE                 F           Salary            NaN   \n",
       "2  GENERAL SERVICES                 F           Salary            NaN   \n",
       "3       WATER MGMNT                 F           Salary            NaN   \n",
       "4              OEMC                 P           Hourly           20.0   \n",
       "\n",
       "   Annual Salary  Hourly Rate  \n",
       "0       101442.0          NaN  \n",
       "1        94122.0          NaN  \n",
       "2       101592.0          NaN  \n",
       "3       110064.0          NaN  \n",
       "4            NaN        19.86  "
      ]
     },
     "execution_count": 41,
     "metadata": {},
     "output_type": "execute_result"
    }
   ],
   "source": [
    "salaries.head()"
   ]
  },
  {
   "cell_type": "markdown",
   "metadata": {},
   "source": [
    "# Reto 2 - Pruebas de Hipótesis\n",
    "\n",
    "En esta sección del laboratorio, vamos a probar si el salario por hora de todos los trabajadores por hora es significativamente diferente de $30/hora. Importa la función correcta para la prueba de una muestra desde scipy y realiza la prueba de hipótesis para un intervalo de confianza de dos lados del 95%."
   ]
  },
  {
   "cell_type": "code",
   "execution_count": 42,
   "metadata": {},
   "outputs": [],
   "source": [
    "# Initialize variables\n",
    "contador = 0  # This will track the fraction of the dataset allocated to the test group\n",
    "data = {}  # To store results\n",
    "\n",
    "# Loop to calculate MDE for splits ranging from 5% to 50% of the dataset\n",
    "while contador <= 0.45:\n",
    "    contador += 0.05  # Increment the fraction for each iteration\n",
    "    mde_list = []  # To store MDE values for each iteration\n",
    "    avg_list = []  # To store average values for the control group\n",
    "    \n",
    "    # Perform 30 simulations for each split to average the MDE\n",
    "    for i in range(1, 31):\n",
    "        # Randomly split the dataset into test and control groups based on the current fraction\n",
    "        test_df, control_df = train_test_split(salaries, test_size=contador)\n",
    "        \n",
    "        # Define the parameters for the MDE calculation\n",
    "        alpha = 0.05  # Significance level\n",
    "        beta = 0.8    # Desired statistical power\n",
    "        \n",
    "        # Calculate standard deviations for both groups\n",
    "        std_dev_test = np.std(test_df['Annual Salary'])\n",
    "        std_dev_control = np.std(control_df['Annual Salary'])\n",
    "        \n",
    "        # Calculate sample sizes\n",
    "        sample_size_control = len(control_df)\n",
    "        sample_size_test = len(test_df)\n",
    "        \n",
    "        # Calculate critical values for the two-tailed test\n",
    "        z_alpha = norm.ppf(1 - alpha/2)\n",
    "        z_beta = norm.ppf(beta)\n",
    "        \n",
    "        # Calculate pooled standard deviation\n",
    "        pooled_std_dev = np.sqrt(((sample_size_control - 1) * std_dev_control**2 + \n",
    "                                  (sample_size_test - 1) * std_dev_test**2) / \n",
    "                                 (sample_size_control + sample_size_test - 2))\n",
    "        \n",
    "        # Calculate the MDE\n",
    "        mde = (z_alpha + z_beta) * pooled_std_dev * np.sqrt(2 / sample_size_control)\n",
    "        \n",
    "        # Append the MDE and average control group price to their respective lists\n",
    "        mde_list.append(mde)\n",
    "        avg = np.mean(control_df['Annual Salary'])\n",
    "        avg_list.append(avg)\n",
    "    \n",
    "    # Calculate and store the average MDE, average price, and MDE percentage for the current split\n",
    "    data[(round(contador, 2))] = {'mde': round(np.mean(mde_list), 4),\n",
    "                                  'avg': round(np.mean(avg_list), 4),\n",
    "                                  'mde_%': round(np.mean(mde_list) / np.mean(avg_list) * 100, 2)}"
   ]
  },
  {
   "cell_type": "code",
   "execution_count": 43,
   "metadata": {},
   "outputs": [
    {
     "name": "stdout",
     "output_type": "stream",
     "text": [
      "{0.05: {'mde': 2046.0614, 'avg': 86785.3151, 'mde_%': 2.36}, 0.1: {'mde': 1447.0106, 'avg': 86861.4934, 'mde_%': 1.67}, 0.15: {'mde': 1181.5255, 'avg': 86834.4337, 'mde_%': 1.36}, 0.2: {'mde': 1023.2762, 'avg': 86830.1124, 'mde_%': 1.18}, 0.25: {'mde': 915.2516, 'avg': 86817.2149, 'mde_%': 1.05}, 0.3: {'mde': 835.515, 'avg': 86783.1642, 'mde_%': 0.96}, 0.35: {'mde': 773.506, 'avg': 86816.2934, 'mde_%': 0.89}, 0.4: {'mde': 723.5604, 'avg': 86832.6853, 'mde_%': 0.83}, 0.45: {'mde': 682.1865, 'avg': 86765.9231, 'mde_%': 0.79}, 0.5: {'mde': 647.1844, 'avg': 86777.1499, 'mde_%': 0.75}}\n"
     ]
    }
   ],
   "source": [
    "print(data)"
   ]
  },
  {
   "cell_type": "code",
   "execution_count": 44,
   "metadata": {},
   "outputs": [
    {
     "data": {
      "image/png": "[encoded data removed]",
      "text/plain": [
       "<Figure size 640x480 with 1 Axes>"
      ]
     },
     "metadata": {},
     "output_type": "display_data"
    }
   ],
   "source": [
    "# Prepare data for plotting\n",
    "percentage_split = [float(key)*100 for key in data.keys()]  # Convert keys to float and multiply by 100 to get percentages\n",
    "mde_percentage_list_hist = [value['mde_%'] for value in data.values()]  # Extract MDE percentages\n",
    "\n",
    "# Plotting\n",
    "plt.plot(percentage_split, mde_percentage_list_hist, marker='o')  # 'o' adds markers to the line plot\n",
    "plt.title('Line Plot of MDE Percentages')\n",
    "plt.xlabel('Sample Percentage (%)')  # Updated to display counter percentage of the sample\n",
    "plt.ylabel('MDE Percentage')\n",
    "\n",
    "# Show the plot\n",
    "plt.show()"
   ]
  },
  {
   "cell_type": "code",
   "execution_count": 45,
   "metadata": {},
   "outputs": [],
   "source": [
    "test_df, control_df = train_test_split(salaries, test_size=0.3)"
   ]
  },
  {
   "cell_type": "markdown",
   "metadata": {},
   "source": [
    "# Reto 3 - Construyendo Intervalos de Confianza\n",
    "\n",
    "Aunque probar nuestra hipótesis es una excelente manera de obtener evidencia empírica para aceptar o rechazar la hipótesis, otra forma de recopilar evidencia es creando un intervalo de confianza. Un intervalo de confianza nos brinda información sobre la media verdadera de la población. Por lo tanto, para un intervalo de confianza del 95%, estamos seguros en un 95% de que la media de la población se encuentra dentro del intervalo de confianza.\n",
    "\n",
    "Para leer más sobre los intervalos de confianza, haz clic [aquí](https://es.wikipedia.org/wiki/Intervalo_de_confianza).\n",
    "\n",
    "En la celda a continuación, construiremos un intervalo de confianza del 95% para el salario por hora medio de todos los trabajadores por hora.\n",
    "\n",
    "El intervalo de confianza se calcula en SciPy utilizando la función `t.interval`. Puedes leer más sobre esta función [aquí](https://docs.scipy.org/doc/scipy-0.14.0/reference/generated/scipy.stats.t.html).\n",
    "\n",
    "Para calcular el intervalo de confianza del salario por hora, usa 0.95 para el nivel de confianza, el número de filas - 1 para los grados de libertad, la media de la muestra para el parámetro de ubicación y el error estándar para la escala. El error estándar se puede calcular utilizando [esta](https://docs.scipy.org/doc/scipy/reference/generated/scipy.stats.sem.html) función en SciPy."
   ]
  },
  {
   "cell_type": "code",
   "execution_count": 47,
   "metadata": {},
   "outputs": [
    {
     "name": "stdout",
     "output_type": "stream",
     "text": [
      "Media de la muestra: 86786.99979015143\n",
      "Error estándar de la media: nan\n",
      "Intervalo de confianza del 95%: (nan, nan)\n"
     ]
    }
   ],
   "source": [
    "mean_hourly_wage = np.mean(salaries['Annual Salary'])\n",
    "\n",
    "# Calcular el error estándar de la media\n",
    "sem_hourly_wage = stats.sem(salaries['Annual Salary'])\n",
    "\n",
    "# Calcular el intervalo de confianza del 95%\n",
    "confidence_interval = stats.t.interval(\n",
    "    0.95,  # Nivel de confianza\n",
    "    len(salaries['Annual Salary']) - 1,  # Grados de libertad\n",
    "    loc=mean_hourly_wage,  # Media de la muestra\n",
    "    scale=sem_hourly_wage  # Error estándar\n",
    ")\n",
    "\n",
    "print(\"Media de la muestra:\", mean_hourly_wage)\n",
    "print(\"Error estándar de la media:\", sem_hourly_wage)\n",
    "print(\"Intervalo de confianza del 95%:\", confidence_interval)"
   ]
  },
  {
   "cell_type": "markdown",
   "metadata": {},
   "source": [
    "# Reto 4 - Pruebas de Hipótesis de Proporciones\n",
    "\n",
    "Otro tipo de prueba de una muestra es una prueba de hipótesis de proporciones. En esta prueba, examinamos si la proporción de un grupo en nuestra muestra es significativamente diferente de una fracción.\n",
    "\n",
    "Puedes leer más sobre las pruebas de proporción de una muestra [aquí](http://sphweb.bumc.bu.edu/otlt/MPH-Modules/BS/SAS/SAS6-CategoricalData/SAS6-CategoricalData2.html).\n",
    "\n",
    "En la celda a continuación, utiliza la función `proportions_ztest` de `statsmodels` para realizar una prueba de hipótesis que determinará si el número de trabajadores por hora en la Ciudad de Chicago es significativamente diferente del 25% en el nivel de confianza del 95%."
   ]
  },
  {
   "cell_type": "code",
   "execution_count": null,
   "metadata": {},
   "outputs": [
    {
     "name": "stdout",
     "output_type": "stream",
     "text": [
      "KS statistic: 0.008101152966894176\n",
      "P-value: 0.7471129313966123\n",
      "Global p-value of TOST: nan\n",
      "Inferiority test (difference > lower margin): Statistic = nan, p-value = nan\n",
      "Superiority test (difference < upper margin): Statistic = nan, p-value = nan\n",
      "There is not enough evidence to claim that the two drugs are equivalent.\n",
      "T-statistic: nan\n",
      "P-value: nan\n",
      "There is no significant difference between the two groups.\n"
     ]
    }
   ],
   "source": [
    "# Selecting the data from each DataFrame\n",
    "data1 = control_df['Annual Salary']  # We select the column price from our df\n",
    "data2 = test_df['Annual Salary']  # We select the column price from our df\n",
    "\n",
    "# Perform the KS test\n",
    "statistic, p_value = ks_2samp(data1, data2)\n",
    "\n",
    "print(f\"KS statistic: {statistic}\")\n",
    "print(f\"P-value: {p_value}\")\n",
    "\n",
    "# Define the equivalence limits\n",
    "low, upp = -0.5, 0.5 \n",
    "\n",
    "# Unpacking the results\n",
    "p_value_global, result_lower, result_upper = sm.stats.ttost_ind(data1, data2, low, upp)\n",
    "\n",
    "# Print the results\n",
    "print(f\"Global p-value of TOST: {p_value_global}\")\n",
    "print(f\"Inferiority test (difference > lower margin): Statistic = {result_lower[0]}, p-value = {result_lower[1]}\")\n",
    "print(f\"Superiority test (difference < upper margin): Statistic = {result_upper[0]}, p-value = {result_upper[1]}\")\n",
    "\n",
    "# Interpretation based on p-values\n",
    "if p_value_global < 0.05:\n",
    "    print(\"There is enough statistical evidence to claim that the two group are equivalent within the specified equivalence margin.\")\n",
    "else:\n",
    "    print(\"There is not enough evidence to claim that the two drugs are equivalent.\")\n",
    "\n",
    "# Perform the t-test\n",
    "t_stat, p_value = ttest_ind(data1, data2)\n",
    "\n",
    "# Print the results\n",
    "print(f\"T-statistic: {t_stat}\")\n",
    "print(f\"P-value: {p_value}\")\n",
    "\n",
    "# Interpretation\n",
    "if p_value < 0.05:\n",
    "    print(\"There is a significant difference between the two groups.\")\n",
    "else:\n",
    "    print(\"There is no significant difference between the two groups.\")"
   ]
  }
 ],
 "metadata": {
  "kernelspec": {
   "display_name": "Python 3 (ipykernel)",
   "language": "python",
   "name": "python3"
  },
  "language_info": {
   "codemirror_mode": {
    "name": "ipython",
    "version": 3
   },
   "file_extension": ".py",
   "mimetype": "text/x-python",
   "name": "python",
   "nbconvert_exporter": "python",
   "pygments_lexer": "ipython3",
   "version": "3.11.7"
  }
 },
 "nbformat": 4,
 "nbformat_minor": 2
}
