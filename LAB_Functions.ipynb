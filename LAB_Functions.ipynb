{
 "cells": [
  {
   "cell_type": "markdown",
   "metadata": {},
   "source": [
    "# Functions"
   ]
  },
  {
   "cell_type": "code",
   "execution_count": 1,
   "metadata": {},
   "outputs": [
    {
     "name": "stdout",
     "output_type": "stream",
     "text": [
      "Requirement already satisfied: mod in c:\\users\\jessi\\anaconda3\\lib\\site-packages (0.3.0)\n",
      "Note: you may need to restart the kernel to use updated packages.\n"
     ]
    }
   ],
   "source": [
    "pip install mod"
   ]
  },
  {
   "cell_type": "code",
   "execution_count": 61,
   "metadata": {
    "scrolled": true
   },
   "outputs": [
    {
     "ename": "ModuleNotFoundError",
     "evalue": "No module named 'mod.testing'; 'mod' is not a package",
     "output_type": "error",
     "traceback": [
      "\u001b[1;31m---------------------------------------------------------------------------\u001b[0m",
      "\u001b[1;31mModuleNotFoundError\u001b[0m                       Traceback (most recent call last)",
      "Cell \u001b[1;32mIn[61], line 1\u001b[0m\n\u001b[1;32m----> 1\u001b[0m \u001b[38;5;28;01mfrom\u001b[39;00m \u001b[38;5;21;01mmod\u001b[39;00m\u001b[38;5;21;01m.\u001b[39;00m\u001b[38;5;21;01mtesting\u001b[39;00m \u001b[38;5;28;01mimport\u001b[39;00m \u001b[38;5;241m*\u001b[39m\n\u001b[0;32m      2\u001b[0m \u001b[38;5;28;01mimport\u001b[39;00m \u001b[38;5;21;01munittest\u001b[39;00m\n",
      "\u001b[1;31mModuleNotFoundError\u001b[0m: No module named 'mod.testing'; 'mod' is not a package"
     ]
    }
   ],
   "source": [
    "from mod.testing import *\n",
    "import unittest"
   ]
  },
  {
   "cell_type": "markdown",
   "metadata": {},
   "source": [
    "En este laboratorio pondremos en práctica algunos de los conceptos que hemos aprendido en los últimos días.\n",
    "\n",
    "`NOTA: En este laboratorio deberías intentar escribir todas las funciones por ti mismo utilizando solo la sintaxis más básica de Python y sin funciones como len, count, sum, max, min, in, etc. Dale una oportunidad. 🧑🏻‍💻👩🏻‍💻`\n",
    "\n",
    "La celda después de cada ejercicio contiene algunas pruebas para verificar si tu función funciona como se espera."
   ]
  },
  {
   "cell_type": "markdown",
   "metadata": {},
   "source": [
    "## 1. Escribe una función que devuelva el mayor de dos números"
   ]
  },
  {
   "cell_type": "code",
   "execution_count": null,
   "metadata": {},
   "outputs": [],
   "source": [
    "def greater(a,b):\n",
    "    if a > b:\n",
    "        print(f\"El numero mayor es: {a}\")\n",
    "    else:\n",
    "        print(f\"El numero mayor es: {b}\")"
   ]
  },
  {
   "cell_type": "code",
   "execution_count": 51,
   "metadata": {},
   "outputs": [
    {
     "ename": "NameError",
     "evalue": "name 'test_greater' is not defined",
     "output_type": "error",
     "traceback": [
      "\u001b[1;31m---------------------------------------------------------------------------\u001b[0m",
      "\u001b[1;31mNameError\u001b[0m                                 Traceback (most recent call last)",
      "Cell \u001b[1;32mIn[51], line 2\u001b[0m\n\u001b[0;32m      1\u001b[0m \u001b[38;5;66;03m# Para testear tu función\u001b[39;00m\n\u001b[1;32m----> 2\u001b[0m test_greater(greater)\n",
      "\u001b[1;31mNameError\u001b[0m: name 'test_greater' is not defined"
     ]
    }
   ],
   "source": [
    "# Para testear tu función\n",
    "test_greater(greater)"
   ]
  },
  {
   "cell_type": "markdown",
   "metadata": {},
   "source": [
    "## 2. Ahora escribe una función que devuelva el elemento más"
   ]
  },
  {
   "cell_type": "code",
   "execution_count": 6,
   "metadata": {},
   "outputs": [],
   "source": [
    "##Enunciado incompleto"
   ]
  },
  {
   "cell_type": "markdown",
   "metadata": {},
   "source": [
    "## 3. Escribe una función que sume todos los elementos de una lista"
   ]
  },
  {
   "cell_type": "code",
   "execution_count": 9,
   "metadata": {},
   "outputs": [],
   "source": [
    "def sum_all(lst):\n",
    "    \"\"\"\n",
    "    USO: Sumar todos los elementos de una lista\n",
    "    PARAMETROS:\n",
    "        lst [Lista]: Lista para ser sumada\n",
    "    VARIABLES:\n",
    "        suma [int]: Armazena los elementos sumados\n",
    "    DEVOLUCIÓN: Devuelve un numero unico con el total de la suma de todos los elementos de la lista.\n",
    "    \"\"\"\n",
    "    suma = 0\n",
    "    for elemento in lst:\n",
    "        suma += elemento\n",
    "    return suma"
   ]
  },
  {
   "cell_type": "code",
   "execution_count": 11,
   "metadata": {},
   "outputs": [
    {
     "name": "stdout",
     "output_type": "stream",
     "text": [
      "47\n"
     ]
    }
   ],
   "source": [
    "Resultado = sum_all([2,7,4,1,8,5,2,9,6,3])\n",
    "print(Resultado)"
   ]
  },
  {
   "cell_type": "markdown",
   "metadata": {},
   "source": [
    "## 4. Escribe otra función que multiplique todos los elementos de una lista"
   ]
  },
  {
   "cell_type": "code",
   "execution_count": 262,
   "metadata": {},
   "outputs": [],
   "source": [
    "def mult_all(lst):\n",
    "    \"\"\"\n",
    "    USO: Multiplicar todos los elementos de una lista\n",
    "    PARAMETROS:\n",
    "        lst [Lista]: Lista para ser multiplicada\n",
    "    VARIABLES:\n",
    "        x [int]: Armazena los elementos calculados\n",
    "    DEVOLUCIÓN: Devuelve un numero unico con el total de la multiplicación de todos los elementos de la lista.\n",
    "    \"\"\"\n",
    "    x = 1\n",
    "    for k in lst:\n",
    "        x *= k\n",
    "    return x"
   ]
  },
  {
   "cell_type": "code",
   "execution_count": 264,
   "metadata": {
    "scrolled": true
   },
   "outputs": [
    {
     "name": "stdout",
     "output_type": "stream",
     "text": [
      "175\n"
     ]
    }
   ],
   "source": [
    "# Para testear tu función\n",
    "lst = [1,7,5,5]\n",
    "print(mult_all(lst))"
   ]
  },
  {
   "cell_type": "markdown",
   "metadata": {},
   "source": [
    "## 5. Ahora combina esas dos ideas y escribe una función que reciba una lista y ya sea \"+\" o \"*\", y produzca el resultado acorde"
   ]
  },
  {
   "cell_type": "code",
   "execution_count": 19,
   "metadata": {},
   "outputs": [],
   "source": [
    "def oper_all(arr,oper=\"*\"):\n",
    "    \"\"\"\n",
    "    USO: Sumar o Multiplicar una lista\n",
    "    FUNCIONES:\n",
    "        mult_all [func]: Funcion que multiplica todos los elementos de una lista\n",
    "        sum_all [func]: Funcion que suma todos los elementos de una lista\n",
    "    PARAMETROS:\n",
    "        arr [Lista]: Lista para ser calculada\n",
    "        oper [str]: operador que define el calculo\n",
    "    VARIABLES:\n",
    "        x [int]: Armazena los elementos calculados\n",
    "    DEVOLUCIÓN: Devuelve un numero unico con el total de la suma o multiplicación de todos los elementos de la lista.\n",
    "    \"\"\"\n",
    "    if oper == \"*\":\n",
    "        x = mult_all(arr)\n",
    "    elif oper == \"+\":\n",
    "        x = sum_all(arr)\n",
    "    else:\n",
    "        pass\n",
    "    return x\n"
   ]
  },
  {
   "cell_type": "code",
   "execution_count": 21,
   "metadata": {},
   "outputs": [
    {
     "name": "stdout",
     "output_type": "stream",
     "text": [
      "16\n"
     ]
    }
   ],
   "source": [
    "# Para testear tu función\n",
    "arr = [5,5,6]\n",
    "print(oper_all(arr,\"+\"))"
   ]
  },
  {
   "cell_type": "markdown",
   "metadata": {},
   "source": [
    "## 6. Escribe una función que devuelva el factorial de un número."
   ]
  },
  {
   "cell_type": "code",
   "execution_count": 24,
   "metadata": {},
   "outputs": [],
   "source": [
    "def factorial(n):\n",
    "    \"\"\"\n",
    "    USO: Calcular o valor factorial de un numero n.\n",
    "    PARAMETROS:\n",
    "        n [int]: Numero entero para saber el factorial\n",
    "    VARIABLES:\n",
    "        x [int]: Armazena los valores calculados\n",
    "    DEVOLUCIÓN: La función devuelve el valor final de x, que será el factorial del número de entrada \"n\"\n",
    "    \"\"\"\n",
    "    x = 1\n",
    "    for k in range(1,n+1):\n",
    "        if n > 0:\n",
    "            x *= k\n",
    "        elif n == 0:\n",
    "            x = 1\n",
    "        else:\n",
    "            print(\"Numero invalido\")\n",
    "    return(x)"
   ]
  },
  {
   "cell_type": "code",
   "execution_count": 26,
   "metadata": {},
   "outputs": [
    {
     "name": "stdout",
     "output_type": "stream",
     "text": [
      "720\n"
     ]
    }
   ],
   "source": [
    "# This will test your function \n",
    "print(factorial(6))"
   ]
  },
  {
   "cell_type": "code",
   "execution_count": 28,
   "metadata": {},
   "outputs": [],
   "source": [
    "# Fórmula factorial\n",
    "# n! = n * (n - 1) *...*1\n",
    "\n",
    "# Este código define una función llamada \"factorial\" que toma una entrada \"n\". La función utiliza un bucle for para iterar a través del rango de números\n",
    "# desde 1 hasta n+1. Para cada número en ese rango, multiplica el valor actual de x por el número en el rango. Al final del bucle,\n",
    "# la función devuelve el valor final de x, que será el factorial del número de entrada \"n\".\n",
    "\n",
    "# El factorial de un entero positivo n es el producto de todos los enteros positivos menores o iguales a n.\n",
    "# Por ejemplo, el factorial de 6 (escrito \"6!\") es 6 * 5 * 4 * 3 * 2 * 1 = 720.\n",
    "\n",
    "# Así que esta función toma una entrada de cualquier entero positivo y devuelve el factorial de ese número."
   ]
  },
  {
   "cell_type": "markdown",
   "metadata": {},
   "source": [
    "## 7. Escribe una función que tome una lista y devuelva una lista de los valores únicos.\n",
    "\n",
    "`NOTE: No podemos usar set. 🤔`"
   ]
  },
  {
   "cell_type": "code",
   "execution_count": 258,
   "metadata": {},
   "outputs": [],
   "source": [
    "def unique(lst_un):\n",
    "    \"\"\"\n",
    "    USO: Borrar numero duplicados de una lista\n",
    "    PARAMETROS:\n",
    "        lst_un [list]: lista original\n",
    "    VARIABLES:\n",
    "        x [list]: Lista vacia para armazenar los valores calculados\n",
    "    DEVOLUCIÓN: La función devuelve la lista con valores unicos.\n",
    "    \"\"\"   \n",
    "    x = []\n",
    "    for k in lst_un:\n",
    "        if k not in x:\n",
    "            x.append(k)\n",
    "    else:\n",
    "        pass\n",
    "    return x"
   ]
  },
  {
   "cell_type": "code",
   "execution_count": 260,
   "metadata": {},
   "outputs": [
    {
     "name": "stdout",
     "output_type": "stream",
     "text": [
      "[2, 3, 4, 5, 6]\n"
     ]
    }
   ],
   "source": [
    "# Para testear tu función \n",
    "z = [2,3,4,5,6,4,5,6,3,4,5]\n",
    "print(unique(z))"
   ]
  },
  {
   "cell_type": "markdown",
   "metadata": {},
   "source": [
    "## 8. Escribe una función que devuelva la moda de una lista, es decir: el elemento que aparece más veces.\n",
    "\n",
    "`NOTE: No se debe usar count... 🧐`"
   ]
  },
  {
   "cell_type": "code",
   "execution_count": 254,
   "metadata": {},
   "outputs": [],
   "source": [
    "from statistics import mode\n",
    "def mode_counter(arr):\n",
    "    return mode(arr)"
   ]
  },
  {
   "cell_type": "code",
   "execution_count": 256,
   "metadata": {},
   "outputs": [
    {
     "name": "stdout",
     "output_type": "stream",
     "text": [
      "7\n"
     ]
    }
   ],
   "source": [
    "arr = [7,7,8,4,3,24,36,234,5,6,7,86,5,32,2,1,1,5,7,8]\n",
    "print(mode_counter(arr))"
   ]
  },
  {
   "cell_type": "markdown",
   "metadata": {},
   "source": [
    "## 9. Escribe una función que calcule la desviación estándar de una lista.\n",
    "`NOTE: no utilices librerías ni ninguna función ya construida. 😉`"
   ]
  },
  {
   "cell_type": "code",
   "execution_count": 250,
   "metadata": {},
   "outputs": [
    {
     "name": "stdout",
     "output_type": "stream",
     "text": [
      "1.1547005383792515\n",
      "1.1547005383792515\n"
     ]
    }
   ],
   "source": [
    "import numpy as np\n",
    "def st_dev(list_sd):\n",
    "    media = sum(list_sd)/len(list_sd)\n",
    "    \n",
    "    t= []\n",
    "    for num in list_sd:\n",
    "        t.append((num - media)**2)\n",
    "    sumaTotal = sum(t)\n",
    "    y=(sumaTotal/len(list_sd))\n",
    "    z= y**0.5\n",
    "    return z\n",
    "print(st_dev([2,2,2,3,4,5]))\n",
    "print(np.std([2,2,2,3,4,5]))"
   ]
  },
  {
   "cell_type": "code",
   "execution_count": 246,
   "metadata": {},
   "outputs": [
    {
     "ename": "AttributeError",
     "evalue": "'float' object has no attribute 'append'",
     "output_type": "error",
     "traceback": [
      "\u001b[1;31m---------------------------------------------------------------------------\u001b[0m",
      "\u001b[1;31mAttributeError\u001b[0m                            Traceback (most recent call last)",
      "Cell \u001b[1;32mIn[246], line 2\u001b[0m\n\u001b[0;32m      1\u001b[0m \u001b[38;5;66;03m# Para testear tu función\u001b[39;00m\n\u001b[1;32m----> 2\u001b[0m \u001b[38;5;28mprint\u001b[39m(st_dev([\u001b[38;5;241m2\u001b[39m,\u001b[38;5;241m2\u001b[39m,\u001b[38;5;241m2\u001b[39m,\u001b[38;5;241m2\u001b[39m,\u001b[38;5;241m2\u001b[39m,\u001b[38;5;241m10\u001b[39m]))\n",
      "Cell \u001b[1;32mIn[244], line 5\u001b[0m, in \u001b[0;36mst_dev\u001b[1;34m(list_sd)\u001b[0m\n\u001b[0;32m      3\u001b[0m \u001b[38;5;28;01mfor\u001b[39;00m num \u001b[38;5;129;01min\u001b[39;00m list_sd:\n\u001b[0;32m      4\u001b[0m     x \u001b[38;5;241m=\u001b[39m (num \u001b[38;5;241m-\u001b[39m media)\u001b[38;5;241m*\u001b[39m\u001b[38;5;241m*\u001b[39m\u001b[38;5;241m2\u001b[39m\n\u001b[1;32m----> 5\u001b[0m     z \u001b[38;5;241m=\u001b[39m x\u001b[38;5;241m.\u001b[39mappend()\n\u001b[0;32m      7\u001b[0m \u001b[38;5;28;01mreturn\u001b[39;00m z\n",
      "\u001b[1;31mAttributeError\u001b[0m: 'float' object has no attribute 'append'"
     ]
    }
   ],
   "source": [
    "# Para testear tu función\n",
    "print(st_dev([2,2,2,2,2,10]))"
   ]
  },
  {
   "cell_type": "markdown",
   "metadata": {},
   "source": [
    "## 10. Escribe una función para verificar si una cadena es un pangrama, es decir: si contiene todas las letras del alfabeto al menos una vez. Ten en cuenta que las cadenas pueden contener caracteres que no son letras."
   ]
  },
  {
   "cell_type": "code",
   "execution_count": 45,
   "metadata": {},
   "outputs": [
    {
     "ename": "AttributeError",
     "evalue": "'list' object has no attribute 'replace'",
     "output_type": "error",
     "traceback": [
      "\u001b[1;31m---------------------------------------------------------------------------\u001b[0m",
      "\u001b[1;31mAttributeError\u001b[0m                            Traceback (most recent call last)",
      "Cell \u001b[1;32mIn[45], line 13\u001b[0m\n\u001b[0;32m      9\u001b[0m     \u001b[38;5;28;01mreturn\u001b[39;00m x\n\u001b[0;32m     11\u001b[0m x \u001b[38;5;241m=\u001b[39m \u001b[38;5;124m\"\u001b[39m\u001b[38;5;124mabcdefghijklmnopqrstuwxyz\u001b[39m\u001b[38;5;124m\"\u001b[39m\n\u001b[1;32m---> 13\u001b[0m \u001b[38;5;28;01mif\u001b[39;00m pangram(z):\n\u001b[0;32m     14\u001b[0m     \u001b[38;5;28mprint\u001b[39m(\u001b[38;5;124mf\u001b[39m\u001b[38;5;124m\"\u001b[39m\u001b[38;5;124mLa frase: \u001b[39m\u001b[38;5;124m'\u001b[39m\u001b[38;5;132;01m{\u001b[39;00mz\u001b[38;5;132;01m}\u001b[39;00m\u001b[38;5;124m'\u001b[39m\u001b[38;5;124m es un pangrama\u001b[39m\u001b[38;5;124m\"\u001b[39m)\n\u001b[0;32m     15\u001b[0m \u001b[38;5;28;01melse\u001b[39;00m:\n",
      "Cell \u001b[1;32mIn[45], line 3\u001b[0m, in \u001b[0;36mpangram\u001b[1;34m(string)\u001b[0m\n\u001b[0;32m      1\u001b[0m \u001b[38;5;28;01mdef\u001b[39;00m \u001b[38;5;21mpangram\u001b[39m(string):\n\u001b[0;32m      2\u001b[0m     abcd \u001b[38;5;241m=\u001b[39m \u001b[38;5;124m\"\u001b[39m\u001b[38;5;124mabcdefghijklmnopqrstuvwxyz\u001b[39m\u001b[38;5;124m\"\u001b[39m\n\u001b[1;32m----> 3\u001b[0m     string \u001b[38;5;241m=\u001b[39m string\u001b[38;5;241m.\u001b[39mreplace(\u001b[38;5;124m\"\u001b[39m\u001b[38;5;124m \u001b[39m\u001b[38;5;124m\"\u001b[39m, \u001b[38;5;124m\"\u001b[39m\u001b[38;5;124m\"\u001b[39m)\u001b[38;5;241m.\u001b[39mreplace(\u001b[38;5;124m\"\u001b[39m\u001b[38;5;124m,\u001b[39m\u001b[38;5;124m\"\u001b[39m, \u001b[38;5;124m\"\u001b[39m\u001b[38;5;124m\"\u001b[39m)\u001b[38;5;241m.\u001b[39mlower()\n\u001b[0;32m      4\u001b[0m     \u001b[38;5;28;01mfor\u001b[39;00m k \u001b[38;5;129;01min\u001b[39;00m abcd:\n\u001b[0;32m      5\u001b[0m         \u001b[38;5;28;01mif\u001b[39;00m k \u001b[38;5;129;01mnot\u001b[39;00m \u001b[38;5;129;01min\u001b[39;00m string:\n",
      "\u001b[1;31mAttributeError\u001b[0m: 'list' object has no attribute 'replace'"
     ]
    }
   ],
   "source": [
    "def pangram(string):\n",
    "    abcd = \"abcdefghijklmnopqrstuvwxyz\"\n",
    "    x=[]\n",
    "    for letra in abcd:\n",
    "        \n",
    "        x.append(letra)\n",
    "    for letra in string.lower() :\n",
    "        if letra in x:\n",
    "            \n",
    "            x.remove(letra)\n",
    "        \n",
    "    \n",
    "    if len(x) == 0 :\n",
    "        return True\n",
    "    else:\n",
    "        return False"
   ]
  },
  {
   "cell_type": "code",
   "execution_count": null,
   "metadata": {},
   "outputs": [],
   "source": [
    "def pangram(string):\n",
    "#tu codigo aquí"
   ]
  },
  {
   "cell_type": "code",
   "execution_count": 47,
   "metadata": {},
   "outputs": [
    {
     "name": "stdout",
     "output_type": "stream",
     "text": [
      "La frase: 'abcdefghijklmnopqrstuwxyz' es un pangrama\n"
     ]
    }
   ],
   "source": [
    "x = \"abcdefghijklmnopqrstuwxyz\"\n",
    "\n",
    "if pangram(x):\n",
    "    print(f\"La frase: '{x}' es un pangrama\")\n",
    "else:\n",
    "    print(f\"La frase: '{x}' no es un pangrama\")"
   ]
  },
  {
   "cell_type": "code",
   "execution_count": null,
   "metadata": {},
   "outputs": [],
   "source": [
    "# Para testear tu función\n",
    "test_pangram(pangram)"
   ]
  },
  {
   "cell_type": "markdown",
   "metadata": {},
   "source": [
    "## 11. Escribe una función que reciba una cadena de palabras separadas por comas y devuelva una cadena de palabras separadas por comas ordenadas alfabéticamente.\n",
    "\n",
    "`NOTA: Puedes usar sorted pero no split y definitivamente no join! 🤪`"
   ]
  },
  {
   "cell_type": "code",
   "execution_count": 166,
   "metadata": {},
   "outputs": [],
   "source": [
    "def sort_alpha(string):\n",
    "    \n",
    "    palabra =\"\"\n",
    "    x=[]\n",
    "    for letra in string:\n",
    "        if letra == \",\":\n",
    "            \n",
    "            x.append(palabra)\n",
    "            palabra=\"\"\n",
    "            \n",
    "        else:\n",
    "            \n",
    "            palabra+=letra\n",
    "    x.append(palabra)   \n",
    "    x.sort() \n",
    "    y=\"\"\n",
    "    for i in range(len(x)):\n",
    "        if i<1:\n",
    "            y+= x[i]\n",
    "        else: \n",
    "            y+=\",\"+x[i]\n",
    "    return y\n",
    "    \n",
    "\n"
   ]
  },
  {
   "cell_type": "code",
   "execution_count": 168,
   "metadata": {},
   "outputs": [
    {
     "name": "stdout",
     "output_type": "stream",
     "text": [
      " celular, internet,computador\n"
     ]
    }
   ],
   "source": [
    "print(sort_alpha(\"computador, celular, internet\"))"
   ]
  },
  {
   "cell_type": "markdown",
   "metadata": {},
   "source": [
    "## 12. Escribe una función para verificar si una contraseña dada es fuerte (al menos 8 caracteres, al menos una minúscula, al menos una mayúscula, al menos un número y al menos un carácter especial). Debería devolver True si es fuerte y False si no lo es."
   ]
  },
  {
   "cell_type": "code",
   "execution_count": 192,
   "metadata": {},
   "outputs": [],
   "source": [
    "def check_pass(password):\n",
    "    n = \"0123456789\"\n",
    "    a = \"ABCDEFGHIJKLMNOPQRSTUVWXYZ\"\n",
    "    m = a.lower()\n",
    "    e = \"*.!\"\n",
    "    \n",
    "#Variable para armazenar la devolucion booleana\n",
    "    numero = False\n",
    "    mayuscula = False\n",
    "    caracter = False\n",
    "    minuscula = False\n",
    "\n",
    "    for elem in password:\n",
    "        if elem in n:\n",
    "            numero = True\n",
    "        if elem in a:\n",
    "            mayuscula = True\n",
    "        if elem in e:\n",
    "            carater = True\n",
    "        if elem in m:\n",
    "            minuscula = True\n",
    "    \n",
    "    if len(password) <= 8:\n",
    "        return False\n",
    "\n",
    "    return numero and mayuscula and carater and minuscula\n",
    "\n",
    "    "
   ]
  },
  {
   "cell_type": "code",
   "execution_count": 194,
   "metadata": {},
   "outputs": [
    {
     "data": {
      "text/plain": [
       "False"
      ]
     },
     "execution_count": 194,
     "metadata": {},
     "output_type": "execute_result"
    }
   ],
   "source": [
    "# Para testear tu función\n",
    "check_pass(\"AAAAa123.\")"
   ]
  }
 ],
 "metadata": {
  "kernelspec": {
   "display_name": "Python 3 (ipykernel)",
   "language": "python",
   "name": "python3"
  },
  "language_info": {
   "codemirror_mode": {
    "name": "ipython",
    "version": 3
   },
   "file_extension": ".py",
   "mimetype": "text/x-python",
   "name": "python",
   "nbconvert_exporter": "python",
   "pygments_lexer": "ipython3",
   "version": "3.11.7"
  },
  "vscode": {
   "interpreter": {
    "hash": "aee8b7b246df8f9039afb4144a1f6fd8d2ca17a180786b69acc140d282b71a49"
   }
  }
 },
 "nbformat": 4,
 "nbformat_minor": 4
}
